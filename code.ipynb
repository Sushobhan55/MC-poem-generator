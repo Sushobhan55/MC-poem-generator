{
 "cells": [
  {
   "cell_type": "code",
   "execution_count": 1,
   "id": "1d84ee35",
   "metadata": {},
   "outputs": [],
   "source": [
    "#import pandas to work with the dataset\n",
    "import pandas as pd\n",
    "#import defaultdict to work with the dictonary of all the words in poems\n",
    "from collections import defaultdict\n",
    "import random"
   ]
  },
  {
   "cell_type": "code",
   "execution_count": 2,
   "id": "f1a9303c",
   "metadata": {},
   "outputs": [],
   "source": [
    "# the poems dataset is at https://www.kaggle.com/datasets/tgdivy/poetry-foundation-poems\n",
    "df = pd.read_csv(\"PoetryFoundationData.csv\")"
   ]
  },
  {
   "cell_type": "code",
   "execution_count": 3,
   "id": "1bb4c956",
   "metadata": {
    "scrolled": true
   },
   "outputs": [
    {
     "data": {
      "text/html": [
       "<div>\n",
       "<style scoped>\n",
       "    .dataframe tbody tr th:only-of-type {\n",
       "        vertical-align: middle;\n",
       "    }\n",
       "\n",
       "    .dataframe tbody tr th {\n",
       "        vertical-align: top;\n",
       "    }\n",
       "\n",
       "    .dataframe thead th {\n",
       "        text-align: right;\n",
       "    }\n",
       "</style>\n",
       "<table border=\"1\" class=\"dataframe\">\n",
       "  <thead>\n",
       "    <tr style=\"text-align: right;\">\n",
       "      <th></th>\n",
       "      <th>Unnamed: 0</th>\n",
       "      <th>Title</th>\n",
       "      <th>Poem</th>\n",
       "      <th>Poet</th>\n",
       "      <th>Tags</th>\n",
       "    </tr>\n",
       "  </thead>\n",
       "  <tbody>\n",
       "    <tr>\n",
       "      <th>0</th>\n",
       "      <td>0</td>\n",
       "      <td>\\r\\r\\n                    Objects Used to Prop...</td>\n",
       "      <td>\\r\\r\\nDog bone, stapler,\\r\\r\\ncribbage board, ...</td>\n",
       "      <td>Michelle Menting</td>\n",
       "      <td>NaN</td>\n",
       "    </tr>\n",
       "    <tr>\n",
       "      <th>1</th>\n",
       "      <td>1</td>\n",
       "      <td>\\r\\r\\n                    The New Church\\r\\r\\n...</td>\n",
       "      <td>\\r\\r\\nThe old cupola glinted above the clouds,...</td>\n",
       "      <td>Lucia Cherciu</td>\n",
       "      <td>NaN</td>\n",
       "    </tr>\n",
       "    <tr>\n",
       "      <th>2</th>\n",
       "      <td>2</td>\n",
       "      <td>\\r\\r\\n                    Look for Me\\r\\r\\n   ...</td>\n",
       "      <td>\\r\\r\\nLook for me under the hood\\r\\r\\nof that ...</td>\n",
       "      <td>Ted Kooser</td>\n",
       "      <td>NaN</td>\n",
       "    </tr>\n",
       "    <tr>\n",
       "      <th>3</th>\n",
       "      <td>3</td>\n",
       "      <td>\\r\\r\\n                    Wild Life\\r\\r\\n     ...</td>\n",
       "      <td>\\r\\r\\nBehind the silo, the Mother Rabbit\\r\\r\\n...</td>\n",
       "      <td>Grace Cavalieri</td>\n",
       "      <td>NaN</td>\n",
       "    </tr>\n",
       "    <tr>\n",
       "      <th>4</th>\n",
       "      <td>4</td>\n",
       "      <td>\\r\\r\\n                    Umbrella\\r\\r\\n      ...</td>\n",
       "      <td>\\r\\r\\nWhen I push your button\\r\\r\\nyou fly off...</td>\n",
       "      <td>Connie Wanek</td>\n",
       "      <td>NaN</td>\n",
       "    </tr>\n",
       "  </tbody>\n",
       "</table>\n",
       "</div>"
      ],
      "text/plain": [
       "   Unnamed: 0                                              Title  \\\n",
       "0           0  \\r\\r\\n                    Objects Used to Prop...   \n",
       "1           1  \\r\\r\\n                    The New Church\\r\\r\\n...   \n",
       "2           2  \\r\\r\\n                    Look for Me\\r\\r\\n   ...   \n",
       "3           3  \\r\\r\\n                    Wild Life\\r\\r\\n     ...   \n",
       "4           4  \\r\\r\\n                    Umbrella\\r\\r\\n      ...   \n",
       "\n",
       "                                                Poem              Poet Tags  \n",
       "0  \\r\\r\\nDog bone, stapler,\\r\\r\\ncribbage board, ...  Michelle Menting  NaN  \n",
       "1  \\r\\r\\nThe old cupola glinted above the clouds,...     Lucia Cherciu  NaN  \n",
       "2  \\r\\r\\nLook for me under the hood\\r\\r\\nof that ...        Ted Kooser  NaN  \n",
       "3  \\r\\r\\nBehind the silo, the Mother Rabbit\\r\\r\\n...   Grace Cavalieri  NaN  \n",
       "4  \\r\\r\\nWhen I push your button\\r\\r\\nyou fly off...      Connie Wanek  NaN  "
      ]
     },
     "execution_count": 3,
     "metadata": {},
     "output_type": "execute_result"
    }
   ],
   "source": [
    "df.head()"
   ]
  },
  {
   "cell_type": "code",
   "execution_count": 4,
   "id": "7fd804f7",
   "metadata": {},
   "outputs": [
    {
     "data": {
      "text/plain": [
       "13854"
      ]
     },
     "execution_count": 4,
     "metadata": {},
     "output_type": "execute_result"
    }
   ],
   "source": [
    "#no of poems\n",
    "len(df.Poem.to_list())"
   ]
  },
  {
   "cell_type": "code",
   "execution_count": 5,
   "id": "2d8f5cc7",
   "metadata": {},
   "outputs": [],
   "source": [
    "poems = df.Poem.to_list()"
   ]
  },
  {
   "cell_type": "code",
   "execution_count": 6,
   "id": "973501ff",
   "metadata": {},
   "outputs": [
    {
     "name": "stdout",
     "output_type": "stream",
     "text": [
      "<class 'list'>\n"
     ]
    }
   ],
   "source": [
    "print(type(poems))"
   ]
  },
  {
   "cell_type": "code",
   "execution_count": 7,
   "id": "71b2a123",
   "metadata": {},
   "outputs": [],
   "source": [
    "#convert list to str with removing digits\n",
    "poems_str = ''.join(str(e) for e in poems if not e.isdigit())"
   ]
  },
  {
   "cell_type": "code",
   "execution_count": 8,
   "id": "cf58bec9",
   "metadata": {
    "scrolled": true
   },
   "outputs": [
    {
     "name": "stdout",
     "output_type": "stream",
     "text": [
      "<class 'str'>\n"
     ]
    }
   ],
   "source": [
    "print(type(poems_str))"
   ]
  },
  {
   "cell_type": "code",
   "execution_count": 9,
   "id": "3036e388",
   "metadata": {},
   "outputs": [],
   "source": [
    "#buld a markov chain function\n",
    "def markov_chain(text):\n",
    "    '''The input is a string of text and the output will be a dictionary with each word as\n",
    "       a key and each value as the list of words that come after the key in the text.'''\n",
    "    \n",
    "    #tokenize the text by word, including punctuation\n",
    "    words = text.split(' ')\n",
    "    \n",
    "    #create an emty dictionary to store all the words and next words\n",
    "    m_dict = defaultdict(list)\n",
    "    \n",
    "    #create a zipped list of all of the word pairs and put them in word: list of next words format\n",
    "    for current_word, next_word in zip(words[0:-1], words[1:]):\n",
    "        m_dict[current_word].append(next_word)\n",
    "    \n",
    "    #convert the default dictionary to a dictionary\n",
    "    m_dict = dict(m_dict)\n",
    "    return m_dict"
   ]
  },
  {
   "cell_type": "code",
   "execution_count": 10,
   "id": "ad3cad38",
   "metadata": {},
   "outputs": [],
   "source": [
    "#create a dictionary of poems in poems_str\n",
    "poems_dict = markov_chain(poems_str)"
   ]
  },
  {
   "cell_type": "code",
   "execution_count": 11,
   "id": "0972a783",
   "metadata": {},
   "outputs": [],
   "source": [
    "#buld a generator function with paramaters (dictionary we created and number of words we want to generate)\n",
    "def generate_poem(chain, count=50):\n",
    "    \n",
    "    #choose the first word randomly \n",
    "    #capitalize the first word\n",
    "    word1 = random.choice(list(chain.keys()))\n",
    "    sentence = word1.capitalize()\n",
    "    \n",
    "    #generate the second word randomly from the value list and repeat \n",
    "    for i in range(count-1):\n",
    "        word2 = random.choice(chain[word1])\n",
    "        word1 = word2\n",
    "        sentence += ' ' + word2\n",
    "    #end with a period\n",
    "    sentence += '.'\n",
    "    return(sentence)"
   ]
  },
  {
   "cell_type": "code",
   "execution_count": 12,
   "id": "ae913a04",
   "metadata": {},
   "outputs": [],
   "source": [
    "#create a function to format the generated poem to get rid of unnessary line breaks and spaces\n",
    "def format(text):\n",
    "    text = text.replace(\"\\r\\r\\r\",\" \")\n",
    "    text = text.replace(\"\\r\\r\",\" \")\n",
    "    text = text.replace(\"\\r\",\" \")\n",
    "    text = text.replace(\"  \",\" \")\n",
    "    return text"
   ]
  },
  {
   "cell_type": "code",
   "execution_count": 13,
   "id": "92dab690",
   "metadata": {},
   "outputs": [],
   "source": [
    "#generate a poem\n",
    "poem = generate_poem(poems_dict)"
   ]
  },
  {
   "cell_type": "code",
   "execution_count": 14,
   "id": "6dbc094d",
   "metadata": {},
   "outputs": [
    {
     "data": {
      "text/plain": [
       "'Bird-shaped block, pure a lovely loves, Each day \\nyour thumbs smoothed my old times, I’d be still. \\nThe room away, or sink, And I would be known: But mark that purged of some \\nprivate Soviet \\nUnion you at its knowledge you sleep \\nDepartment of ice, to always think of gloom: What I grow \\nyoung, my sister.'"
      ]
     },
     "execution_count": 14,
     "metadata": {},
     "output_type": "execute_result"
    }
   ],
   "source": [
    "#format the poem\n",
    "poem = format(poem)\n",
    "poem"
   ]
  },
  {
   "cell_type": "code",
   "execution_count": 15,
   "id": "1a920d93",
   "metadata": {},
   "outputs": [],
   "source": [
    "#save the poem in a .txt file\n",
    "with open(\"sample_poem.txt\", \"w\", encoding='utf8') as f:\n",
    "    f.write(poem)\n",
    "    f.close()"
   ]
  }
 ],
 "metadata": {
  "kernelspec": {
   "display_name": "Python 3",
   "language": "python",
   "name": "python3"
  },
  "language_info": {
   "codemirror_mode": {
    "name": "ipython",
    "version": 3
   },
   "file_extension": ".py",
   "mimetype": "text/x-python",
   "name": "python",
   "nbconvert_exporter": "python",
   "pygments_lexer": "ipython3",
   "version": "3.8.8"
  }
 },
 "nbformat": 4,
 "nbformat_minor": 5
}
